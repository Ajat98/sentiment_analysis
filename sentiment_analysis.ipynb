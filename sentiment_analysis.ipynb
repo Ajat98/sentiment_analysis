{
 "cells": [
  {
   "cell_type": "code",
   "execution_count": 8,
   "metadata": {},
   "outputs": [],
   "source": [
    "#Using textblob NLP library\n",
    "#Vadersentiment, for sentiment analysis\n",
    "from textblob import TextBlob\n",
    "from vaderSentiment.vaderSentiment import SentimentIntensityAnalyzer\n",
    "\n"
   ]
  },
  {
   "cell_type": "code",
   "execution_count": 9,
   "metadata": {
    "tags": []
   },
   "outputs": [
    {
     "output_type": "stream",
     "name": "stdout",
     "text": "Positive accuracy = 78.72928176795581% with 724 samples\nNegative accuracy = 54.872120059184105% with 4731 samples\n"
    }
   ],
   "source": [
    "#Opening from a \n",
    "#Positive and negative accuracies, with textblob\n",
    "pos_count = 0\n",
    "pos_correct = 0\n",
    "with open('positive.txt', 'r') as f:\n",
    "    for line in f.read().split('\\n'):\n",
    "        analysis = TextBlob(line)\n",
    "        if analysis.sentiment.subjectivity > 0.8:\n",
    "            if analysis.sentiment.polarity > 0:\n",
    "                pos_correct += 1\n",
    "            pos_count += 1\n",
    "\n",
    "neg_count = 0\n",
    "neg_correct = 0\n",
    "with open('negative.txt', 'r') as f:\n",
    "    for line in f.read().split('\\n'):\n",
    "        analysis = TextBlob(line)\n",
    "        if analysis.sentiment.subjectivity < 0.8:\n",
    "            if analysis.sentiment.polarity <= 0:\n",
    "                neg_correct += 1\n",
    "            neg_count += 1\n",
    "\n",
    "print(\"Positive accuracy = {}% with {} samples\".format(pos_correct/pos_count*100.0, pos_count))\n",
    "print(\"Negative accuracy = {}% with {} samples\".format(neg_correct/neg_count*100.0, neg_count))"
   ]
  },
  {
   "cell_type": "code",
   "execution_count": 6,
   "metadata": {
    "tags": []
   },
   "outputs": [
    {
     "output_type": "stream",
     "name": "stdout",
     "text": "{'neg': 0.0, 'neu': 0.509, 'pos': 0.491, 'compound': 0.6996}\n"
    }
   ],
   "source": [
    "#Using vadersentiment\n",
    "analyzer = SentimentIntensityAnalyzer()\n",
    "vs = analyzer.polarity_scores(\"VADER Sentiment looks interesting, I have high hopes!\")\n",
    "#Returns neg, neut, and pos sentiment + a copound score\n",
    "#print(vs)\n"
   ]
  },
  {
   "cell_type": "code",
   "execution_count": 12,
   "metadata": {
    "tags": []
   },
   "outputs": [
    {
     "output_type": "stream",
     "name": "stdout",
     "text": "Positive accuracy = 87.66037735849056% with 2650 samples\nNegative accuracy = 49.56140350877193% with 1824 samples\n"
    }
   ],
   "source": [
    "#Same as above with vadersentiment\n",
    "#threshold variable\n",
    "thresh = 0.5\n",
    "\n",
    "#Positive sentiment\n",
    "pos_count = 0\n",
    "pos_correct = 0\n",
    "with open('positive.txt', 'r') as f:\n",
    "    for line in f.read().split('\\n'):\n",
    "        vs = analyzer.polarity_scores(line)\n",
    "        if vs['compound'] >= thresh or vs['compound'] <= -thresh:\n",
    "            if vs['compound'] > 0:\n",
    "                pos_correct += 1\n",
    "            pos_count += 1\n",
    "\n",
    "#Neg sentiment\n",
    "neg_count = 0\n",
    "neg_correct = 0\n",
    "with open('negative.txt', 'r') as f:\n",
    "    for line in f.read().split('\\n'):\n",
    "        vs = analyzer.polarity_scores(line)\n",
    "        if vs['compound'] >= thresh or vs['compound'] <= -thresh:\n",
    "            if vs['compound'] <= 0:\n",
    "                neg_correct += 1\n",
    "            neg_count += 1\n",
    "\n",
    "print(\"Positive accuracy = {}% with {} samples\".format(pos_correct/pos_count*100.0, pos_count))\n",
    "print(\"Negative accuracy = {}% with {} samples\".format(neg_correct/neg_count*100.0, neg_count))"
   ]
  },
  {
   "cell_type": "code",
   "execution_count": 15,
   "metadata": {
    "tags": []
   },
   "outputs": [
    {
     "output_type": "stream",
     "name": "stdout",
     "text": "Positive accuracy = 81.0302734375% with 4096 samples\nNegative accuracy = 89.26862611073138% with 2926 samples\n"
    }
   ],
   "source": [
    "#Improved from above\n",
    "thresh = 0.5\n",
    "\n",
    "#Positive sentiment\n",
    "pos_count = 0\n",
    "pos_correct = 0\n",
    "with open('positive.txt', 'r') as f:\n",
    "    for line in f.read().split('\\n'):\n",
    "        vs = analyzer.polarity_scores(line)\n",
    "        if not vs['neg'] > 0.1:\n",
    "            if vs['pos'] - vs['neg'] > 0:\n",
    "                pos_correct += 1\n",
    "            pos_count += 1\n",
    "\n",
    "#Neg sentiment\n",
    "neg_count = 0\n",
    "neg_correct = 0\n",
    "with open('negative.txt', 'r') as f:\n",
    "    for line in f.read().split('\\n'):\n",
    "        vs = analyzer.polarity_scores(line)\n",
    "        if not vs['pos'] > 0.1:\n",
    "            if vs['pos'] - vs['neg'] <= 0:\n",
    "                neg_correct += 1\n",
    "            neg_count += 1\n",
    "\n",
    "print(\"Positive accuracy = {}% with {} samples\".format(pos_correct/pos_count*100.0, pos_count))\n",
    "print(\"Negative accuracy = {}% with {} samples\".format(neg_correct/neg_count*100.0, neg_count))"
   ]
  },
  {
   "cell_type": "code",
   "execution_count": null,
   "metadata": {},
   "outputs": [],
   "source": []
  }
 ],
 "metadata": {
  "language_info": {
   "codemirror_mode": {
    "name": "ipython",
    "version": 3
   },
   "file_extension": ".py",
   "mimetype": "text/x-python",
   "name": "python",
   "nbconvert_exporter": "python",
   "pygments_lexer": "ipython3",
   "version": "3.7.4-final"
  },
  "orig_nbformat": 2,
  "kernelspec": {
   "name": "python37464bitbasecondae6d94403c8c74c4da5694606c3b74da6",
   "display_name": "Python 3.7.4 64-bit ('base': conda)"
  }
 },
 "nbformat": 4,
 "nbformat_minor": 2
}